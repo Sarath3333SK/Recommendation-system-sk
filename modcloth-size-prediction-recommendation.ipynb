{
 "cells": [
  {
   "cell_type": "markdown",
   "metadata": {
    "papermill": {
     "duration": 0.028846,
     "end_time": "2021-02-23T17:49:10.478979",
     "exception": false,
     "start_time": "2021-02-23T17:49:10.450133",
     "status": "completed"
    },
    "tags": []
   },
   "source": [
    "Hello, this is my first kernel on kaggle. I welcome any suggestions and constructive criticisms.\n",
    "\n",
    "Feel free to upvote and comment if this notebook is helpful to you in any way!"
   ]
  },
  {
   "cell_type": "markdown",
   "metadata": {
    "papermill": {
     "duration": 0.02658,
     "end_time": "2021-02-23T17:49:10.532478",
     "exception": false,
     "start_time": "2021-02-23T17:49:10.505898",
     "status": "completed"
    },
    "tags": []
   },
   "source": [
    "# **ModCloth Analytics - Size Prediction/Recommendation**"
   ]
  },
  {
   "cell_type": "markdown",
   "metadata": {
    "papermill": {
     "duration": 0.028141,
     "end_time": "2021-02-23T17:49:10.587443",
     "exception": false,
     "start_time": "2021-02-23T17:49:10.559302",
     "status": "completed"
    },
    "tags": []
   },
   "source": [
    "In this digital age, online shopping has become more prevalent than ever. Consumers have shifted from brick and mortar stores to shopping online due to the convenience and ease of doing so online - Shoppers can quickly search exactly for what they want, avoid long lines and crowds and do not have to make trips to go to the store. \n",
    "\n",
    " \n",
    "\n",
    "As most people are typically busy with school or work, it is easier and more appealing for them to shop at the convenience of their own homes. With such an easy access to a platform to buy clothes, comes problems. One of the main challenges is improper fitting as customers are not able to immediately try-out the clothes they buy online.\n",
    "\n",
    " \n",
    "\n",
    "As such, having a good product size recommendation and fit prediction is critical in improving the customers’ shopping experiences and reducing product return rates. The fit related dataset collected from ModCloth, an American online retailer of indie and vintage-inspired women's clothing, could be used to address these challenges to improve the recommendation process.\n"
   ]
  },
  {
   "cell_type": "markdown",
   "metadata": {
    "papermill": {
     "duration": 0.026483,
     "end_time": "2021-02-23T17:49:10.640880",
     "exception": false,
     "start_time": "2021-02-23T17:49:10.614397",
     "status": "completed"
    },
    "tags": []
   },
   "source": [
    "# **Table of contents**\n",
    "\n",
    "1. Data Exploration\n",
    "2. Data Preparation\n",
    "3. Feature Selection\n",
    "4. Methods\n",
    "5. Results"
   ]
  },
  {
   "cell_type": "markdown",
   "metadata": {
    "papermill": {
     "duration": 0.026468,
     "end_time": "2021-02-23T17:49:10.694155",
     "exception": false,
     "start_time": "2021-02-23T17:49:10.667687",
     "status": "completed"
    },
    "tags": []
   },
   "source": [
    "First, let's import the relevant libraries we need before we get started."
   ]
  },
  {
   "cell_type": "code",
   "execution_count": 1,
   "metadata": {
    "_kg_hide-input": false,
    "execution": {
     "iopub.execute_input": "2021-02-23T17:49:10.751801Z",
     "iopub.status.busy": "2021-02-23T17:49:10.751008Z",
     "iopub.status.idle": "2021-02-23T17:49:12.240160Z",
     "shell.execute_reply": "2021-02-23T17:49:12.240755Z"
    },
    "papermill": {
     "duration": 1.519737,
     "end_time": "2021-02-23T17:49:12.241097",
     "exception": false,
     "start_time": "2021-02-23T17:49:10.721360",
     "status": "completed"
    },
    "tags": []
   },
   "outputs": [],
   "source": [
    "#Load libraries\n",
    "import pandas as pd\n",
    "import numpy as np\n",
    "from scipy.stats import iqr\n",
    "\n",
    "from pandas.plotting import scatter_matrix\n",
    "from sklearn.model_selection import train_test_split\n",
    "from sklearn import ensemble\n",
    "from sklearn.metrics import mean_absolute_error\n",
    "from sklearn.ensemble import ExtraTreesClassifier\n",
    "import matplotlib.pyplot as plt\n",
    "import joblib\n",
    "import re\n",
    "import os\n",
    "import seaborn as sns\n",
    "\n",
    "import matplotlib.pyplot as plt\n",
    "from sklearn import model_selection\n",
    "from sklearn.metrics import classification_report\n",
    "from sklearn.metrics import confusion_matrix\n",
    "from sklearn.metrics import accuracy_score\n",
    "from sklearn.linear_model import LogisticRegression\n",
    "from sklearn.tree import DecisionTreeClassifier\n",
    "from sklearn.neighbors import KNeighborsClassifier\n",
    "from sklearn.discriminant_analysis import LinearDiscriminantAnalysis\n",
    "from sklearn.naive_bayes import GaussianNB\n",
    "from sklearn.svm import SVC"
   ]
  },
  {
   "cell_type": "markdown",
   "metadata": {
    "papermill": {
     "duration": 0.026553,
     "end_time": "2021-02-23T17:49:12.295305",
     "exception": false,
     "start_time": "2021-02-23T17:49:12.268752",
     "status": "completed"
    },
    "tags": []
   },
   "source": [
    "# Data Exploration\n",
    "\n",
    "Next, we can load first data file and get a feeling of how huge the dataset is.\n",
    "\n",
    "Note: I have converted the original file to csv"
   ]
  },
  {
   "cell_type": "code",
   "execution_count": 2,
   "metadata": {
    "_kg_hide-input": false,
    "execution": {
     "iopub.execute_input": "2021-02-23T17:49:12.352623Z",
     "iopub.status.busy": "2021-02-23T17:49:12.351883Z",
     "iopub.status.idle": "2021-02-23T17:49:12.765496Z",
     "shell.execute_reply": "2021-02-23T17:49:12.766169Z"
    },
    "papermill": {
     "duration": 0.444263,
     "end_time": "2021-02-23T17:49:12.766535",
     "exception": false,
     "start_time": "2021-02-23T17:49:12.322272",
     "status": "completed"
    },
    "tags": []
   },
   "outputs": [
    {
     "name": "stderr",
     "output_type": "stream",
     "text": [
      "/opt/conda/lib/python3.7/site-packages/IPython/core/interactiveshell.py:3147: DtypeWarning: Columns (8) have mixed types.Specify dtype option on import or set low_memory=False.\n",
      "  interactivity=interactivity, compiler=compiler, result=result)\n"
     ]
    },
    {
     "data": {
      "text/html": [
       "<div>\n",
       "<style scoped>\n",
       "    .dataframe tbody tr th:only-of-type {\n",
       "        vertical-align: middle;\n",
       "    }\n",
       "\n",
       "    .dataframe tbody tr th {\n",
       "        vertical-align: top;\n",
       "    }\n",
       "\n",
       "    .dataframe thead th {\n",
       "        text-align: right;\n",
       "    }\n",
       "</style>\n",
       "<table border=\"1\" class=\"dataframe\">\n",
       "  <thead>\n",
       "    <tr style=\"text-align: right;\">\n",
       "      <th></th>\n",
       "      <th>item_id</th>\n",
       "      <th>waist</th>\n",
       "      <th>quality</th>\n",
       "      <th>cup size</th>\n",
       "      <th>hips</th>\n",
       "      <th>bra size</th>\n",
       "      <th>category</th>\n",
       "      <th>bust</th>\n",
       "      <th>height</th>\n",
       "      <th>user_name</th>\n",
       "      <th>length</th>\n",
       "      <th>fit</th>\n",
       "      <th>user_id</th>\n",
       "      <th>shoe size</th>\n",
       "      <th>shoe width</th>\n",
       "      <th>size</th>\n",
       "    </tr>\n",
       "  </thead>\n",
       "  <tbody>\n",
       "    <tr>\n",
       "      <th>0</th>\n",
       "      <td>123373</td>\n",
       "      <td>29.0</td>\n",
       "      <td>5.0</td>\n",
       "      <td>d</td>\n",
       "      <td>38.0</td>\n",
       "      <td>34.0</td>\n",
       "      <td>new</td>\n",
       "      <td>36.0</td>\n",
       "      <td>5ft 6in</td>\n",
       "      <td>Emily</td>\n",
       "      <td>just right</td>\n",
       "      <td>small</td>\n",
       "      <td>991571</td>\n",
       "      <td>NaN</td>\n",
       "      <td>NaN</td>\n",
       "      <td>7</td>\n",
       "    </tr>\n",
       "    <tr>\n",
       "      <th>1</th>\n",
       "      <td>123373</td>\n",
       "      <td>31.0</td>\n",
       "      <td>3.0</td>\n",
       "      <td>b</td>\n",
       "      <td>30.0</td>\n",
       "      <td>36.0</td>\n",
       "      <td>new</td>\n",
       "      <td>NaN</td>\n",
       "      <td>5ft 2in</td>\n",
       "      <td>sydneybraden2001</td>\n",
       "      <td>just right</td>\n",
       "      <td>small</td>\n",
       "      <td>587883</td>\n",
       "      <td>NaN</td>\n",
       "      <td>NaN</td>\n",
       "      <td>13</td>\n",
       "    </tr>\n",
       "    <tr>\n",
       "      <th>2</th>\n",
       "      <td>123373</td>\n",
       "      <td>30.0</td>\n",
       "      <td>2.0</td>\n",
       "      <td>b</td>\n",
       "      <td>NaN</td>\n",
       "      <td>32.0</td>\n",
       "      <td>new</td>\n",
       "      <td>NaN</td>\n",
       "      <td>5ft 7in</td>\n",
       "      <td>Ugggh</td>\n",
       "      <td>slightly long</td>\n",
       "      <td>small</td>\n",
       "      <td>395665</td>\n",
       "      <td>9.0</td>\n",
       "      <td>NaN</td>\n",
       "      <td>7</td>\n",
       "    </tr>\n",
       "    <tr>\n",
       "      <th>3</th>\n",
       "      <td>123373</td>\n",
       "      <td>NaN</td>\n",
       "      <td>5.0</td>\n",
       "      <td>dd/e</td>\n",
       "      <td>NaN</td>\n",
       "      <td>NaN</td>\n",
       "      <td>new</td>\n",
       "      <td>NaN</td>\n",
       "      <td>NaN</td>\n",
       "      <td>alexmeyer626</td>\n",
       "      <td>just right</td>\n",
       "      <td>fit</td>\n",
       "      <td>875643</td>\n",
       "      <td>NaN</td>\n",
       "      <td>NaN</td>\n",
       "      <td>21</td>\n",
       "    </tr>\n",
       "    <tr>\n",
       "      <th>4</th>\n",
       "      <td>123373</td>\n",
       "      <td>NaN</td>\n",
       "      <td>5.0</td>\n",
       "      <td>b</td>\n",
       "      <td>NaN</td>\n",
       "      <td>36.0</td>\n",
       "      <td>new</td>\n",
       "      <td>NaN</td>\n",
       "      <td>5ft 2in</td>\n",
       "      <td>dberrones1</td>\n",
       "      <td>slightly long</td>\n",
       "      <td>small</td>\n",
       "      <td>944840</td>\n",
       "      <td>NaN</td>\n",
       "      <td>NaN</td>\n",
       "      <td>18</td>\n",
       "    </tr>\n",
       "  </tbody>\n",
       "</table>\n",
       "</div>"
      ],
      "text/plain": [
       "   item_id  waist  quality cup size  hips  bra size category  bust   height  \\\n",
       "0   123373   29.0      5.0        d  38.0      34.0      new  36.0  5ft 6in   \n",
       "1   123373   31.0      3.0        b  30.0      36.0      new   NaN  5ft 2in   \n",
       "2   123373   30.0      2.0        b   NaN      32.0      new   NaN  5ft 7in   \n",
       "3   123373    NaN      5.0     dd/e   NaN       NaN      new   NaN      NaN   \n",
       "4   123373    NaN      5.0        b   NaN      36.0      new   NaN  5ft 2in   \n",
       "\n",
       "          user_name         length    fit  user_id  shoe size shoe width  size  \n",
       "0             Emily     just right  small   991571        NaN        NaN     7  \n",
       "1  sydneybraden2001     just right  small   587883        NaN        NaN    13  \n",
       "2             Ugggh  slightly long  small   395665        9.0        NaN     7  \n",
       "3      alexmeyer626     just right    fit   875643        NaN        NaN    21  \n",
       "4        dberrones1  slightly long  small   944840        NaN        NaN    18  "
      ]
     },
     "execution_count": 2,
     "metadata": {},
     "output_type": "execute_result"
    }
   ],
   "source": [
    "# Load the data set\n",
    "df = pd.read_csv(\"../input/modclothdf/original_dataset.csv\" ,na_values = '\"\"')\n",
    "df = df[['item_id','waist','quality','cup size','hips','bra size','category','bust','height','user_name','length','fit','user_id','shoe size','shoe width','size']]\n",
    "#Print the first 5 rows of the dataframe.\n",
    "df.head()"
   ]
  },
  {
   "cell_type": "markdown",
   "metadata": {
    "papermill": {
     "duration": 0.028699,
     "end_time": "2021-02-23T17:49:12.824718",
     "exception": false,
     "start_time": "2021-02-23T17:49:12.796019",
     "status": "completed"
    },
    "tags": []
   },
   "source": [
    "Then I used df.info() to print a summary of a DataFrame which prints information about the DataFrame including the index dtype and column dtypes, non-null values and memory usage."
   ]
  },
  {
   "cell_type": "code",
   "execution_count": 3,
   "metadata": {
    "execution": {
     "iopub.execute_input": "2021-02-23T17:49:12.888366Z",
     "iopub.status.busy": "2021-02-23T17:49:12.887604Z",
     "iopub.status.idle": "2021-02-23T17:49:12.966586Z",
     "shell.execute_reply": "2021-02-23T17:49:12.965933Z"
    },
    "papermill": {
     "duration": 0.113382,
     "end_time": "2021-02-23T17:49:12.966745",
     "exception": false,
     "start_time": "2021-02-23T17:49:12.853363",
     "status": "completed"
    },
    "tags": []
   },
   "outputs": [
    {
     "name": "stdout",
     "output_type": "stream",
     "text": [
      "<class 'pandas.core.frame.DataFrame'>\n",
      "RangeIndex: 82790 entries, 0 to 82789\n",
      "Data columns (total 16 columns):\n",
      " #   Column      Non-Null Count  Dtype  \n",
      "---  ------      --------------  -----  \n",
      " 0   item_id     82790 non-null  int64  \n",
      " 1   waist       2882 non-null   float64\n",
      " 2   quality     82722 non-null  float64\n",
      " 3   cup size    76535 non-null  object \n",
      " 4   hips        56064 non-null  float64\n",
      " 5   bra size    76772 non-null  float64\n",
      " 6   category    82790 non-null  object \n",
      " 7   bust        11854 non-null  object \n",
      " 8   height      81683 non-null  object \n",
      " 9   user_name   82790 non-null  object \n",
      " 10  length      82755 non-null  object \n",
      " 11  fit         82790 non-null  object \n",
      " 12  user_id     82790 non-null  int64  \n",
      " 13  shoe size   27915 non-null  float64\n",
      " 14  shoe width  18607 non-null  object \n",
      " 15  size        82790 non-null  int64  \n",
      "dtypes: float64(5), int64(3), object(8)\n",
      "memory usage: 10.1+ MB\n"
     ]
    }
   ],
   "source": [
    "df.info()"
   ]
  },
  {
   "cell_type": "markdown",
   "metadata": {
    "papermill": {
     "duration": 0.029297,
     "end_time": "2021-02-23T17:49:13.024632",
     "exception": false,
     "start_time": "2021-02-23T17:49:12.995335",
     "status": "completed"
    },
    "tags": []
   },
   "source": [
    "Missing data can produce biased estimates and reduce the effectiveness of a machine learning model , leading to invalid conclusions. As such, it is important to identify columns with high percentage of missing data.​\n"
   ]
  },
  {
   "cell_type": "code",
   "execution_count": 4,
   "metadata": {
    "_kg_hide-input": true,
    "execution": {
     "iopub.execute_input": "2021-02-23T17:49:13.090886Z",
     "iopub.status.busy": "2021-02-23T17:49:13.090126Z",
     "iopub.status.idle": "2021-02-23T17:49:13.236523Z",
     "shell.execute_reply": "2021-02-23T17:49:13.237087Z"
    },
    "papermill": {
     "duration": 0.183844,
     "end_time": "2021-02-23T17:49:13.237301",
     "exception": false,
     "start_time": "2021-02-23T17:49:13.053457",
     "status": "completed"
    },
    "tags": []
   },
   "outputs": [
    {
     "data": {
      "text/html": [
       "<div>\n",
       "<style scoped>\n",
       "    .dataframe tbody tr th:only-of-type {\n",
       "        vertical-align: middle;\n",
       "    }\n",
       "\n",
       "    .dataframe tbody tr th {\n",
       "        vertical-align: top;\n",
       "    }\n",
       "\n",
       "    .dataframe thead th {\n",
       "        text-align: right;\n",
       "    }\n",
       "</style>\n",
       "<table border=\"1\" class=\"dataframe\">\n",
       "  <thead>\n",
       "    <tr style=\"text-align: right;\">\n",
       "      <th></th>\n",
       "      <th>total_missing</th>\n",
       "      <th>perc_missing</th>\n",
       "    </tr>\n",
       "  </thead>\n",
       "  <tbody>\n",
       "    <tr>\n",
       "      <th>item_id</th>\n",
       "      <td>0</td>\n",
       "      <td>0.000000</td>\n",
       "    </tr>\n",
       "    <tr>\n",
       "      <th>waist</th>\n",
       "      <td>79908</td>\n",
       "      <td>96.518903</td>\n",
       "    </tr>\n",
       "    <tr>\n",
       "      <th>quality</th>\n",
       "      <td>68</td>\n",
       "      <td>0.082136</td>\n",
       "    </tr>\n",
       "    <tr>\n",
       "      <th>cup size</th>\n",
       "      <td>6255</td>\n",
       "      <td>7.555260</td>\n",
       "    </tr>\n",
       "    <tr>\n",
       "      <th>hips</th>\n",
       "      <td>26726</td>\n",
       "      <td>32.281677</td>\n",
       "    </tr>\n",
       "    <tr>\n",
       "      <th>bra size</th>\n",
       "      <td>6018</td>\n",
       "      <td>7.268994</td>\n",
       "    </tr>\n",
       "    <tr>\n",
       "      <th>category</th>\n",
       "      <td>0</td>\n",
       "      <td>0.000000</td>\n",
       "    </tr>\n",
       "    <tr>\n",
       "      <th>bust</th>\n",
       "      <td>70936</td>\n",
       "      <td>85.681846</td>\n",
       "    </tr>\n",
       "    <tr>\n",
       "      <th>height</th>\n",
       "      <td>1107</td>\n",
       "      <td>1.337118</td>\n",
       "    </tr>\n",
       "    <tr>\n",
       "      <th>user_name</th>\n",
       "      <td>0</td>\n",
       "      <td>0.000000</td>\n",
       "    </tr>\n",
       "    <tr>\n",
       "      <th>length</th>\n",
       "      <td>35</td>\n",
       "      <td>0.042276</td>\n",
       "    </tr>\n",
       "    <tr>\n",
       "      <th>fit</th>\n",
       "      <td>0</td>\n",
       "      <td>0.000000</td>\n",
       "    </tr>\n",
       "    <tr>\n",
       "      <th>user_id</th>\n",
       "      <td>0</td>\n",
       "      <td>0.000000</td>\n",
       "    </tr>\n",
       "    <tr>\n",
       "      <th>shoe size</th>\n",
       "      <td>54875</td>\n",
       "      <td>66.282160</td>\n",
       "    </tr>\n",
       "    <tr>\n",
       "      <th>shoe width</th>\n",
       "      <td>64183</td>\n",
       "      <td>77.525063</td>\n",
       "    </tr>\n",
       "    <tr>\n",
       "      <th>size</th>\n",
       "      <td>0</td>\n",
       "      <td>0.000000</td>\n",
       "    </tr>\n",
       "  </tbody>\n",
       "</table>\n",
       "</div>"
      ],
      "text/plain": [
       "            total_missing  perc_missing\n",
       "item_id                 0      0.000000\n",
       "waist               79908     96.518903\n",
       "quality                68      0.082136\n",
       "cup size             6255      7.555260\n",
       "hips                26726     32.281677\n",
       "bra size             6018      7.268994\n",
       "category                0      0.000000\n",
       "bust                70936     85.681846\n",
       "height               1107      1.337118\n",
       "user_name               0      0.000000\n",
       "length                 35      0.042276\n",
       "fit                     0      0.000000\n",
       "user_id                 0      0.000000\n",
       "shoe size           54875     66.282160\n",
       "shoe width          64183     77.525063\n",
       "size                    0      0.000000"
      ]
     },
     "execution_count": 4,
     "metadata": {},
     "output_type": "execute_result"
    }
   ],
   "source": [
    "missing_data = pd.DataFrame({'total_missing': df.isnull().sum(), 'perc_missing': (df.isnull().sum()/82790)*100})\n",
    "missing_data"
   ]
  },
  {
   "cell_type": "markdown",
   "metadata": {
    "papermill": {
     "duration": 0.028868,
     "end_time": "2021-02-23T17:49:13.295549",
     "exception": false,
     "start_time": "2021-02-23T17:49:13.266681",
     "status": "completed"
    },
    "tags": []
   },
   "source": [
    "Here, we can identify that the columns 'waist' ,  'bust' and 'shoe width' have the greatest percentage of missing data of 96.5%, 85.7% and 77.5% respectively.​\n",
    "\n",
    "This will be useful in data preparation where we will handle missing data to reduce bias.​"
   ]
  },
  {
   "cell_type": "markdown",
   "metadata": {
    "papermill": {
     "duration": 0.028606,
     "end_time": "2021-02-23T17:49:13.353037",
     "exception": false,
     "start_time": "2021-02-23T17:49:13.324431",
     "status": "completed"
    },
    "tags": []
   },
   "source": [
    "# **Data Preparation**"
   ]
  },
  {
   "cell_type": "markdown",
   "metadata": {
    "papermill": {
     "duration": 0.028556,
     "end_time": "2021-02-23T17:49:13.410565",
     "exception": false,
     "start_time": "2021-02-23T17:49:13.382009",
     "status": "completed"
    },
    "tags": []
   },
   "source": [
    "The DType of the height column is string (object) and is expressed in feet and inches. I decided to perform feature engineering where I parsed the height column to extract the height in a numerical quantity.​\n",
    "\n",
    "I first split the height column into 2 columns ('h_foot' and 'h_inches') by space and extracted out the non-numeric characters. I used a formula to calculate the height to cm in the 'height' column and deleted the 2 columns.​"
   ]
  },
  {
   "cell_type": "code",
   "execution_count": 5,
   "metadata": {
    "execution": {
     "iopub.execute_input": "2021-02-23T17:49:13.484542Z",
     "iopub.status.busy": "2021-02-23T17:49:13.483783Z",
     "iopub.status.idle": "2021-02-23T17:49:14.287226Z",
     "shell.execute_reply": "2021-02-23T17:49:14.288160Z"
    },
    "papermill": {
     "duration": 0.848775,
     "end_time": "2021-02-23T17:49:14.288524",
     "exception": false,
     "start_time": "2021-02-23T17:49:13.439749",
     "status": "completed"
    },
    "tags": []
   },
   "outputs": [],
   "source": [
    "# split the height column by foot and inches\n",
    "df[['h_foot', 'h_inches']] = df['height'].str.split(' ', 1, expand=True)\n",
    "\n",
    "# extract only the numeric values from the string and covert to float\n",
    "df['h_foot'] = df['h_foot'].str.extract(\"([-+]?\\d*\\.\\d+|[-+]?\\d+)\").astype(float)\n",
    "df['h_inches'] = df['h_inches'].str.extract(\"([-+]?\\d*\\.\\d+|[-+]?\\d+)\").astype(float)\n",
    "\n",
    "#ammend the height column to display height in cm\n",
    "df[\"height\"] = df[\"h_foot\"].astype(float)*30.48 + df[\"h_inches\"].astype(float)*2.54\n",
    "\n",
    "# Dropping h_foot and h_inches columns as we do not need it anymore\n",
    "del df['h_foot']\n",
    "del df['h_inches']\n",
    "\n",
    "#We can see by looking at the values which are not null, that bust should be an integer dtype. \n",
    "#However, there is a non-numeric value '37-39' in this column which needs to be extracted out so that we can safely convert the dtype to int. \n",
    "df['bust'] = df['bust'].str.extract(\"([-+]?\\d*\\.\\d+|[-+]?\\d+)\").astype(float)\n"
   ]
  },
  {
   "cell_type": "markdown",
   "metadata": {
    "papermill": {
     "duration": 0.03609,
     "end_time": "2021-02-23T17:49:14.373531",
     "exception": false,
     "start_time": "2021-02-23T17:49:14.337441",
     "status": "completed"
    },
    "tags": []
   },
   "source": [
    "Data cleaning is an important part of data analysis. Df.dropna() is used to drop the rows with missing/null values. This ensures that the data is tidied up and will make the analysis much stronger. ​\n",
    "\n",
    "I have also changed the datatype of the columns 'quality', 'waist', 'hips' and 'bra size' to float using astype pandas from string (object). ​\n",
    "\n",
    "This step is necessary as it makes it easier to analyse the patterns and perform data visualisations using methods such as correlation matrix as most of these methods can only read numeric data.​"
   ]
  },
  {
   "cell_type": "code",
   "execution_count": 6,
   "metadata": {
    "execution": {
     "iopub.execute_input": "2021-02-23T17:49:14.442808Z",
     "iopub.status.busy": "2021-02-23T17:49:14.442123Z",
     "iopub.status.idle": "2021-02-23T17:49:14.505018Z",
     "shell.execute_reply": "2021-02-23T17:49:14.504436Z"
    },
    "papermill": {
     "duration": 0.098421,
     "end_time": "2021-02-23T17:49:14.505164",
     "exception": false,
     "start_time": "2021-02-23T17:49:14.406743",
     "status": "completed"
    },
    "tags": []
   },
   "outputs": [],
   "source": [
    "#drop rows with nan/missing values\n",
    "df.dropna(axis=0, how='any', thresh=None, subset=None, inplace=True)\n",
    "\n",
    "#change datatype to str\n",
    "df['quality'] = df['quality'].astype(float)\n",
    "df['waist'] = df['waist'].astype(float)\n",
    "df['hips'] = df['hips'].astype(float)\n",
    "df['bra size'] = df['bra size'].astype(float)\n"
   ]
  },
  {
   "cell_type": "markdown",
   "metadata": {
    "papermill": {
     "duration": 0.028948,
     "end_time": "2021-02-23T17:49:14.563714",
     "exception": false,
     "start_time": "2021-02-23T17:49:14.534766",
     "status": "completed"
    },
    "tags": []
   },
   "source": [
    "Next, I used  Box Plot(Box & Whiskers) to show the distribution of numerical data and skewness through displaying the data quartiles and averages. It also helps me to identify the outliers so that I can extract them from the DataFrame. This is important as outliers can worsen the training process and lead to inaccurate  models and results. "
   ]
  },
  {
   "cell_type": "code",
   "execution_count": 7,
   "metadata": {
    "_kg_hide-input": true,
    "execution": {
     "iopub.execute_input": "2021-02-23T17:49:14.630650Z",
     "iopub.status.busy": "2021-02-23T17:49:14.629883Z",
     "iopub.status.idle": "2021-02-23T17:49:14.938041Z",
     "shell.execute_reply": "2021-02-23T17:49:14.937282Z"
    },
    "papermill": {
     "duration": 0.344959,
     "end_time": "2021-02-23T17:49:14.938220",
     "exception": false,
     "start_time": "2021-02-23T17:49:14.593261",
     "status": "completed"
    },
    "tags": []
   },
   "outputs": [
    {
     "data": {
      "image/png": "[encoded data removed]",
      "text/plain": [
       "<Figure size 1296x648 with 1 Axes>"
      ]
     },
     "metadata": {
      "needs_background": "light"
     },
     "output_type": "display_data"
    }
   ],
   "source": [
    "num_cols = ['waist','quality','hips','bra size','bust','shoe size','size']\n",
    "plt.figure(figsize=(18,9))\n",
    "df[num_cols].boxplot()\n",
    "plt.title(\"Numerical variables in Modcloth dataset\", fontsize=20)\n",
    "plt.show()"
   ]
  },
  {
   "cell_type": "markdown",
   "metadata": {
    "papermill": {
     "duration": 0.03039,
     "end_time": "2021-02-23T17:49:14.999708",
     "exception": false,
     "start_time": "2021-02-23T17:49:14.969318",
     "status": "completed"
    },
    "tags": []
   },
   "source": [
    "# Feature Selection"
   ]
  },
  {
   "cell_type": "markdown",
   "metadata": {
    "papermill": {
     "duration": 0.03221,
     "end_time": "2021-02-23T17:49:15.062467",
     "exception": false,
     "start_time": "2021-02-23T17:49:15.030257",
     "status": "completed"
    },
    "tags": []
   },
   "source": [
    "Feature selection is important as it enables the machine learning algorithm to train faster and more accurately, reduces the complexity of a model and makes it easier to interpret. It is desirable to reduce the number of input variables to both reduce the computational cost of modeling and to improve the performance of the model. "
   ]
  },
  {
   "cell_type": "markdown",
   "metadata": {
    "papermill": {
     "duration": 0.031182,
     "end_time": "2021-02-23T17:49:15.124860",
     "exception": false,
     "start_time": "2021-02-23T17:49:15.093678",
     "status": "completed"
    },
    "tags": []
   },
   "source": [
    "Correlation Matrix with Heatmap can be used to identify the features most related to the size column and determine the relationship/association between the 'size' column (which is the target variable) and the other variables. The darker the colour, the stronger the relationship with 'size'."
   ]
  },
  {
   "cell_type": "code",
   "execution_count": 8,
   "metadata": {
    "_kg_hide-input": true,
    "execution": {
     "iopub.execute_input": "2021-02-23T17:49:15.195396Z",
     "iopub.status.busy": "2021-02-23T17:49:15.194614Z",
     "iopub.status.idle": "2021-02-23T17:49:15.600717Z",
     "shell.execute_reply": "2021-02-23T17:49:15.601332Z"
    },
    "papermill": {
     "duration": 0.445894,
     "end_time": "2021-02-23T17:49:15.601526",
     "exception": false,
     "start_time": "2021-02-23T17:49:15.155632",
     "status": "completed"
    },
    "tags": []
   },
   "outputs": [
    {
     "data": {
      "text/plain": [
       "<AxesSubplot:>"
      ]
     },
     "execution_count": 8,
     "metadata": {},
     "output_type": "execute_result"
    },
    {
     "data": {
      "image/png": "[encoded data removed]",
      "text/plain": [
       "<Figure size 1440x720 with 2 Axes>"
      ]
     },
     "metadata": {
      "needs_background": "light"
     },
     "output_type": "display_data"
    }
   ],
   "source": [
    "corrmat = df.corr()\n",
    "plt.subplots(figsize=(20, 10))\n",
    "sns.heatmap(corrmat, vmax=.9, cmap=\"YlGnBu\", square=True)"
   ]
  },
  {
   "cell_type": "markdown",
   "metadata": {
    "papermill": {
     "duration": 0.032847,
     "end_time": "2021-02-23T17:49:15.667067",
     "exception": false,
     "start_time": "2021-02-23T17:49:15.634220",
     "status": "completed"
    },
    "tags": []
   },
   "source": [
    "From the matrix, I can deduce that the columns 'waist', 'hips', bra size' and 'bust' have the strongest association to size while columns like 'height' and 'shoe size' have a moderate association and the remaining columns like 'item id', 'quality' and 'user id' have the weakest relationship with 'size'."
   ]
  },
  {
   "cell_type": "code",
   "execution_count": 9,
   "metadata": {
    "execution": {
     "iopub.execute_input": "2021-02-23T17:49:15.737074Z",
     "iopub.status.busy": "2021-02-23T17:49:15.736431Z",
     "iopub.status.idle": "2021-02-23T17:49:15.743191Z",
     "shell.execute_reply": "2021-02-23T17:49:15.743675Z"
    },
    "papermill": {
     "duration": 0.044032,
     "end_time": "2021-02-23T17:49:15.743866",
     "exception": false,
     "start_time": "2021-02-23T17:49:15.699834",
     "status": "completed"
    },
    "tags": []
   },
   "outputs": [],
   "source": [
    "## remove categorical data as the model in the next step can only take in numerical data\n",
    "del df['cup size']\n",
    "del df['category']\n",
    "del df['user_name']\n",
    "del df['length']\n",
    "del df['fit']\n",
    "del df['shoe width']"
   ]
  },
  {
   "cell_type": "markdown",
   "metadata": {
    "papermill": {
     "duration": 0.032918,
     "end_time": "2021-02-23T17:49:15.809211",
     "exception": false,
     "start_time": "2021-02-23T17:49:15.776293",
     "status": "completed"
    },
    "tags": []
   },
   "source": [
    "Another way to find the most important features is Feature Importance."
   ]
  },
  {
   "cell_type": "code",
   "execution_count": 10,
   "metadata": {
    "_kg_hide-input": true,
    "execution": {
     "iopub.execute_input": "2021-02-23T17:49:15.882167Z",
     "iopub.status.busy": "2021-02-23T17:49:15.881419Z",
     "iopub.status.idle": "2021-02-23T17:49:16.244330Z",
     "shell.execute_reply": "2021-02-23T17:49:16.243694Z"
    },
    "papermill": {
     "duration": 0.400913,
     "end_time": "2021-02-23T17:49:16.244496",
     "exception": false,
     "start_time": "2021-02-23T17:49:15.843583",
     "status": "completed"
    },
    "tags": []
   },
   "outputs": [
    {
     "name": "stdout",
     "output_type": "stream",
     "text": [
      "[0.11959173 0.16503776 0.06473398 0.12356107 0.092576   0.14207107\n",
      " 0.09024568 0.11882887 0.08335383]\n"
     ]
    },
    {
     "data": {
      "image/png": "[encoded data removed]",
      "text/plain": [
       "<Figure size 432x288 with 1 Axes>"
      ]
     },
     "metadata": {
      "needs_background": "light"
     },
     "output_type": "display_data"
    }
   ],
   "source": [
    "X = df.iloc[:,0:9]  #independent columns\n",
    "y = df.iloc[:,-1]    #target column \n",
    "\n",
    "model = ExtraTreesClassifier()\n",
    "model.fit(X,y)\n",
    "print(model.feature_importances_) #use inbuilt class feature_importances of tree based classifiers\n",
    "#plot graph of feature importances for better visualization\n",
    "feat_importances = pd.Series(model.feature_importances_, index=X.columns)\n",
    "feat_importances.nlargest(10).plot(kind='barh')\n",
    "plt.show()"
   ]
  },
  {
   "cell_type": "markdown",
   "metadata": {
    "papermill": {
     "duration": 0.033157,
     "end_time": "2021-02-23T17:49:16.311147",
     "exception": false,
     "start_time": "2021-02-23T17:49:16.277990",
     "status": "completed"
    },
    "tags": []
   },
   "source": [
    "Feature importance gives me a score for each feature in the data. The higher the score, the more important or relevant the target feature is towards the output variable ('size'). Extra Tree Classifier is used for extracting the top features for the dataset. From the table, we can see that the most important features according to this algorithm are ‘waist’, ‘bust’ and ‘hips’ with scores greater than 0.1."
   ]
  },
  {
   "cell_type": "markdown",
   "metadata": {
    "papermill": {
     "duration": 0.032891,
     "end_time": "2021-02-23T17:49:16.377238",
     "exception": false,
     "start_time": "2021-02-23T17:49:16.344347",
     "status": "completed"
    },
    "tags": []
   },
   "source": [
    "After using various methods to find the most important features which will be useful in improving the perormance of the model to predict sizes accurately, I identified that the most important features are 'waist', 'hips' and 'bust'. Thus, I dropped the unnecessary features which would not contribute to the efficacy of the model."
   ]
  },
  {
   "cell_type": "code",
   "execution_count": 11,
   "metadata": {
    "execution": {
     "iopub.execute_input": "2021-02-23T17:49:16.454047Z",
     "iopub.status.busy": "2021-02-23T17:49:16.452929Z",
     "iopub.status.idle": "2021-02-23T17:49:16.456251Z",
     "shell.execute_reply": "2021-02-23T17:49:16.455599Z"
    },
    "papermill": {
     "duration": 0.044878,
     "end_time": "2021-02-23T17:49:16.456399",
     "exception": false,
     "start_time": "2021-02-23T17:49:16.411521",
     "status": "completed"
    },
    "tags": []
   },
   "outputs": [],
   "source": [
    "del df['quality']\n",
    "del df['height']\n",
    "del df['user_id']\n",
    "del df['shoe size']\n",
    "del df['bra size']"
   ]
  },
  {
   "cell_type": "markdown",
   "metadata": {
    "papermill": {
     "duration": 0.0326,
     "end_time": "2021-02-23T17:49:16.523478",
     "exception": false,
     "start_time": "2021-02-23T17:49:16.490878",
     "status": "completed"
    },
    "tags": []
   },
   "source": [
    "# Removing outliers"
   ]
  },
  {
   "cell_type": "markdown",
   "metadata": {
    "papermill": {
     "duration": 0.032885,
     "end_time": "2021-02-23T17:49:16.589471",
     "exception": false,
     "start_time": "2021-02-23T17:49:16.556586",
     "status": "completed"
    },
    "tags": []
   },
   "source": [
    "After dropping the irrelevant features, I removed the outliers by using the inter-quartile range to detect and remove most of the outliers of the remaining features. \n",
    "\n",
    "The data points that fall outside the (lower bound & outer bound) range that I have defined are to be extracted from the dataframe as outliers. The number (in this case, 1.5) controls the sensitivity of the range and hence, the decision rule. A bigger scale would make the outlier(s) to be considered as data point(s) while a smaller one would make some of the data point(s) to be perceived as outlier(s). Hence, 1.5 is the optimal number I have chosen in this scenerio."
   ]
  },
  {
   "cell_type": "code",
   "execution_count": 12,
   "metadata": {
    "execution": {
     "iopub.execute_input": "2021-02-23T17:49:16.659249Z",
     "iopub.status.busy": "2021-02-23T17:49:16.658529Z",
     "iopub.status.idle": "2021-02-23T17:49:16.678790Z",
     "shell.execute_reply": "2021-02-23T17:49:16.679455Z"
    },
    "papermill": {
     "duration": 0.057026,
     "end_time": "2021-02-23T17:49:16.679646",
     "exception": false,
     "start_time": "2021-02-23T17:49:16.622620",
     "status": "completed"
    },
    "tags": []
   },
   "outputs": [],
   "source": [
    "cols = ['hips', 'bust', 'size', 'waist']\n",
    "# Computing IQR\n",
    "Q1 = df[cols].quantile(0.25)\n",
    "Q3 = df[cols].quantile(0.75)\n",
    "IQR = Q3 - Q1\n",
    "\n",
    "# Filtering Values between Q1-1.5IQR and Q3+1.5IQR\n",
    "#defining range to identify data points lying outside the range(lower bound & upperbound). they are outliers).\n",
    "df = df[~((df[cols] < (Q1 - 1.5 * IQR)) |(df[cols] > (Q3 + 1.5 * IQR))).any(axis=1)]"
   ]
  },
  {
   "cell_type": "code",
   "execution_count": 13,
   "metadata": {
    "_kg_hide-input": true,
    "execution": {
     "iopub.execute_input": "2021-02-23T17:49:16.773268Z",
     "iopub.status.busy": "2021-02-23T17:49:16.772163Z",
     "iopub.status.idle": "2021-02-23T17:49:16.961632Z",
     "shell.execute_reply": "2021-02-23T17:49:16.962139Z"
    },
    "papermill": {
     "duration": 0.249421,
     "end_time": "2021-02-23T17:49:16.962354",
     "exception": false,
     "start_time": "2021-02-23T17:49:16.712933",
     "status": "completed"
    },
    "tags": []
   },
   "outputs": [
    {
     "data": {
      "image/png": "[encoded data removed]",
      "text/plain": [
       "<Figure size 1296x648 with 1 Axes>"
      ]
     },
     "metadata": {
      "needs_background": "light"
     },
     "output_type": "display_data"
    }
   ],
   "source": [
    "num_cols = ['hips', 'bust', 'size', 'waist'] # one or more\n",
    "plt.figure(figsize=(18,9))\n",
    "df[num_cols].boxplot()\n",
    "plt.title(\"Numerical variables in Modcloth dataset (updated)\", fontsize=20)\n",
    "plt.show()"
   ]
  },
  {
   "cell_type": "code",
   "execution_count": 14,
   "metadata": {
    "execution": {
     "iopub.execute_input": "2021-02-23T17:49:17.048733Z",
     "iopub.status.busy": "2021-02-23T17:49:17.047897Z",
     "iopub.status.idle": "2021-02-23T17:49:17.052742Z",
     "shell.execute_reply": "2021-02-23T17:49:17.053382Z"
    },
    "papermill": {
     "duration": 0.055587,
     "end_time": "2021-02-23T17:49:17.053570",
     "exception": false,
     "start_time": "2021-02-23T17:49:16.997983",
     "status": "completed"
    },
    "tags": []
   },
   "outputs": [
    {
     "name": "stdout",
     "output_type": "stream",
     "text": [
      "<class 'pandas.core.frame.DataFrame'>\n",
      "Int64Index: 175 entries, 34264 to 65451\n",
      "Data columns (total 5 columns):\n",
      " #   Column   Non-Null Count  Dtype  \n",
      "---  ------   --------------  -----  \n",
      " 0   item_id  175 non-null    object \n",
      " 1   waist    175 non-null    float64\n",
      " 2   hips     175 non-null    float64\n",
      " 3   bust     175 non-null    float64\n",
      " 4   size     175 non-null    object \n",
      "dtypes: float64(3), object(2)\n",
      "memory usage: 8.2+ KB\n"
     ]
    }
   ],
   "source": [
    "df['size'] = df['size'].astype(str)\n",
    "df['item_id'] = df['item_id'].astype(str)\n",
    "\n",
    "df.info()"
   ]
  },
  {
   "cell_type": "markdown",
   "metadata": {
    "papermill": {
     "duration": 0.034182,
     "end_time": "2021-02-23T17:49:17.123584",
     "exception": false,
     "start_time": "2021-02-23T17:49:17.089402",
     "status": "completed"
    },
    "tags": []
   },
   "source": [
    "# Methods"
   ]
  },
  {
   "cell_type": "markdown",
   "metadata": {
    "papermill": {
     "duration": 0.034114,
     "end_time": "2021-02-23T17:49:17.192154",
     "exception": false,
     "start_time": "2021-02-23T17:49:17.158040",
     "status": "completed"
    },
    "tags": []
   },
   "source": [
    "I trained the model using the following sklearn classification algorithms :\n",
    "\n",
    "* Logistic Regression​\n",
    "\n",
    "* Linear Discriminant Analysis​\n",
    "\n",
    "* KNeighbours Classifier​\n",
    "\n",
    "* Decision Tree Classifier​\n",
    "\n",
    "* GaussianNB​\n",
    "\n",
    "* SVC​\n",
    "\n",
    "The models used to test were evaluated against one another using the results obtained and the boxplot plotted to visualize the result.​"
   ]
  },
  {
   "cell_type": "code",
   "execution_count": 15,
   "metadata": {
    "execution": {
     "iopub.execute_input": "2021-02-23T17:49:17.269044Z",
     "iopub.status.busy": "2021-02-23T17:49:17.268091Z",
     "iopub.status.idle": "2021-02-23T17:49:17.273055Z",
     "shell.execute_reply": "2021-02-23T17:49:17.272494Z"
    },
    "papermill": {
     "duration": 0.046498,
     "end_time": "2021-02-23T17:49:17.273216",
     "exception": false,
     "start_time": "2021-02-23T17:49:17.226718",
     "status": "completed"
    },
    "tags": []
   },
   "outputs": [],
   "source": [
    "# Split-out validation dataset\n",
    "array = df.values\n",
    "X = array[:,0:4]\n",
    "Y = array[:,4]\n",
    "validation_size = 0.20\n",
    "seed = 7\n",
    "X_train, X_validation, Y_train, Y_validation = model_selection.train_test_split(X, Y, test_size=validation_size, random_state=seed)\n"
   ]
  },
  {
   "cell_type": "code",
   "execution_count": 16,
   "metadata": {
    "_kg_hide-output": true,
    "execution": {
     "iopub.execute_input": "2021-02-23T17:49:17.351021Z",
     "iopub.status.busy": "2021-02-23T17:49:17.350210Z",
     "iopub.status.idle": "2021-02-23T17:49:17.356572Z",
     "shell.execute_reply": "2021-02-23T17:49:17.355664Z"
    },
    "papermill": {
     "duration": 0.048608,
     "end_time": "2021-02-23T17:49:17.356774",
     "exception": false,
     "start_time": "2021-02-23T17:49:17.308166",
     "status": "completed"
    },
    "tags": []
   },
   "outputs": [
    {
     "name": "stdout",
     "output_type": "stream",
     "text": [
      "[['412737' 27.0 36.0 32.0]\n",
      " ['414857' 35.0 41.0 42.0]\n",
      " ['416942' 35.0 46.0 37.0]\n",
      " ['418224' 38.0 43.0 41.0]\n",
      " ['423572' 28.0 39.0 34.0]\n",
      " ['423572' 30.0 40.0 35.0]\n",
      " ['424111' 37.0 45.0 41.0]\n",
      " ['424111' 29.0 41.0 34.0]\n",
      " ['424111' 38.0 47.0 46.0]\n",
      " ['426491' 29.0 36.0 34.0]\n",
      " ['427567' 38.0 47.0 46.0]\n",
      " ['428539' 29.0 37.0 34.0]\n",
      " ['429442' 29.0 36.0 34.0]\n",
      " ['431698' 29.0 41.0 34.0]\n",
      " ['440351' 31.0 44.0 40.0]\n",
      " ['441337' 25.0 36.0 32.0]\n",
      " ['441604' 30.0 40.0 39.0]\n",
      " ['441891' 30.0 40.0 39.0]\n",
      " ['445947' 30.0 39.0 36.0]\n",
      " ['447431' 30.0 42.0 37.0]\n",
      " ['449177' 32.0 41.0 39.0]\n",
      " ['453061' 32.0 35.0 36.0]\n",
      " ['453244' 37.0 45.0 41.0]\n",
      " ['456224' 29.0 36.0 39.0]\n",
      " ['458646' 29.0 36.0 39.0]\n",
      " ['459014' 28.0 36.0 36.0]\n",
      " ['459820' 25.0 33.0 32.0]\n",
      " ['461310' 25.0 35.0 34.0]\n",
      " ['464041' 27.0 34.0 34.0]\n",
      " ['464373' 29.0 41.0 34.0]\n",
      " ['467353' 26.0 35.0 34.0]\n",
      " ['468050' 28.0 39.0 36.0]\n",
      " ['469939' 31.0 38.0 36.0]\n",
      " ['470071' 28.0 36.0 35.0]\n",
      " ['470071' 28.0 39.0 36.0]\n",
      " ['471620' 25.0 33.0 32.0]\n",
      " ['471620' 44.0 47.0 48.0]\n",
      " ['473574' 29.0 41.0 36.0]\n",
      " ['473577' 31.0 44.0 38.0]\n",
      " ['473577' 34.0 43.0 41.0]\n",
      " ['473577' 29.0 39.0 36.0]\n",
      " ['474532' 29.0 40.0 38.0]\n",
      " ['476549' 28.0 34.0 36.0]\n",
      " ['477210' 30.0 42.0 36.0]\n",
      " ['478122' 30.0 35.0 38.0]\n",
      " ['478924' 27.0 37.0 34.0]\n",
      " ['479706' 37.0 42.0 36.0]\n",
      " ['480622' 29.0 38.0 37.0]\n",
      " ['481724' 30.0 40.0 37.0]\n",
      " ['482408' 29.0 36.0 39.0]\n",
      " ['482408' 30.0 40.0 38.0]\n",
      " ['482795' 37.0 47.0 43.0]\n",
      " ['486643' 26.0 37.0 34.0]\n",
      " ['489957' 33.0 43.0 40.0]\n",
      " ['491604' 39.0 49.0 44.0]\n",
      " ['492298' 34.0 47.0 38.0]\n",
      " ['494869' 32.0 43.0 39.0]\n",
      " ['495760' 31.0 42.0 40.0]\n",
      " ['495760' 31.0 44.0 38.0]\n",
      " ['495760' 27.0 34.0 34.0]\n",
      " ['496922' 27.0 35.0 34.0]\n",
      " ['497675' 28.0 39.0 36.0]\n",
      " ['502803' 31.0 41.0 36.0]\n",
      " ['507970' 28.0 39.0 36.0]\n",
      " ['508697' 28.0 36.0 35.0]\n",
      " ['511707' 28.0 39.0 36.0]\n",
      " ['512356' 29.0 41.0 34.0]\n",
      " ['512356' 28.0 41.0 34.0]\n",
      " ['514674' 29.0 35.0 37.0]\n",
      " ['515297' 34.0 42.0 42.0]\n",
      " ['515644' 40.0 45.0 45.0]\n",
      " ['515644' 26.0 33.0 32.0]\n",
      " ['517661' 29.0 39.0 37.0]\n",
      " ['519836' 30.0 42.0 36.0]\n",
      " ['520958' 26.0 37.0 34.0]\n",
      " ['521236' 38.0 47.0 46.0]\n",
      " ['521470' 30.0 40.0 39.0]\n",
      " ['524144' 30.0 34.0 36.0]\n",
      " ['524868' 35.0 47.0 44.0]\n",
      " ['525642' 35.0 42.0 40.0]\n",
      " ['527308' 35.0 42.0 40.0]\n",
      " ['528079' 26.0 32.0 34.0]\n",
      " ['531624' 35.0 41.0 42.0]\n",
      " ['536646' 29.0 40.0 34.0]\n",
      " ['537031' 27.0 38.0 34.0]\n",
      " ['538258' 30.0 42.0 36.0]\n",
      " ['539980' 36.0 43.0 36.0]\n",
      " ['540282' 39.0 49.0 44.0]\n",
      " ['540857' 28.0 40.0 34.0]\n",
      " ['540970' 31.0 39.0 35.0]\n",
      " ['541891' 37.0 45.0 41.0]\n",
      " ['541891' 35.0 41.0 42.0]\n",
      " ['544314' 28.0 42.0 34.0]\n",
      " ['546557' 35.0 41.0 39.0]\n",
      " ['548931' 28.0 38.0 35.0]\n",
      " ['549006' 36.0 44.0 41.0]\n",
      " ['549348' 36.0 42.0 40.0]\n",
      " ['550384' 26.0 38.0 34.0]\n",
      " ['551198' 34.0 42.0 42.0]\n",
      " ['551284' 34.0 42.0 42.0]\n",
      " ['553134' 27.0 37.0 36.0]\n",
      " ['555713' 36.0 46.0 42.0]\n",
      " ['559980' 29.0 38.0 37.0]\n",
      " ['560581' 27.0 38.0 34.0]\n",
      " ['562633' 30.0 40.0 37.0]\n",
      " ['563962' 30.0 40.0 37.0]\n",
      " ['565629' 28.0 36.0 36.0]\n",
      " ['566440' 34.0 42.0 42.0]\n",
      " ['568891' 30.0 41.0 36.0]\n",
      " ['569623' 32.0 38.0 40.0]\n",
      " ['574559' 27.0 37.0 36.0]\n",
      " ['576314' 34.0 42.0 42.0]\n",
      " ['577999' 28.0 38.0 35.0]\n",
      " ['581984' 30.0 40.0 37.0]\n",
      " ['587944' 29.0 38.0 37.0]\n",
      " ['588158' 38.0 48.0 44.0]\n",
      " ['589031' 26.0 35.0 33.0]\n",
      " ['589031' 31.0 38.0 36.0]\n",
      " ['590481' 31.0 39.0 35.0]\n",
      " ['590481' 36.0 44.0 41.0]\n",
      " ['593079' 40.0 47.0 44.0]\n",
      " ['593079' 31.0 39.0 35.0]\n",
      " ['593217' 31.0 39.0 35.0]\n",
      " ['593336' 35.0 41.0 39.0]\n",
      " ['595562' 33.0 44.0 36.0]\n",
      " ['596216' 34.0 42.0 43.0]\n",
      " ['598899' 33.0 42.0 42.0]\n",
      " ['607708' 31.0 39.0 35.0]\n",
      " ['610649' 29.0 41.0 34.0]\n",
      " ['614225' 40.0 47.0 44.0]\n",
      " ['615127' 36.0 45.0 43.0]\n",
      " ['615960' 28.0 41.0 34.0]\n",
      " ['620328' 27.0 37.0 36.0]\n",
      " ['626178' 32.0 43.0 39.0]\n",
      " ['626178' 28.0 38.0 35.0]\n",
      " ['627112' 27.0 37.0 36.0]\n",
      " ['627112' 40.0 42.0 38.0]\n",
      " ['632674' 40.0 42.0 42.0]\n",
      " ['634757' 27.0 36.0 34.0]\n",
      " ['634843' 36.0 48.0 39.0]\n",
      " ['641126' 28.0 41.0 34.0]\n",
      " ['642478' 32.0 38.0 39.0]\n",
      " ['644899' 33.0 43.0 40.0]\n",
      " ['645822' 25.0 37.0 32.0]\n",
      " ['646088' 37.0 45.0 41.0]\n",
      " ['647235' 31.0 38.0 36.0]\n",
      " ['647235' 31.0 40.0 40.0]\n",
      " ['650890' 36.0 42.0 40.0]\n",
      " ['652823' 29.0 41.0 41.0]\n",
      " ['655211' 29.0 41.0 34.0]\n",
      " ['656172' 28.0 39.0 34.0]\n",
      " ['656172' 35.0 41.0 42.0]\n",
      " ['656172' 23.0 34.0 32.0]\n",
      " ['656645' 31.0 40.0 38.0]\n",
      " ['657081' 30.0 41.0 34.0]\n",
      " ['660757' 28.0 38.0 37.0]\n",
      " ['661775' 26.0 37.0 36.0]\n",
      " ['663571' 30.0 42.0 36.0]\n",
      " ['664417' 35.0 47.0 44.0]\n",
      " ['666743' 28.0 42.0 37.0]\n",
      " ['668235' 31.0 40.0 37.0]\n",
      " ['668696' 28.0 38.0 34.0]\n",
      " ['674759' 27.0 35.0 34.0]\n",
      " ['675411' 30.0 40.0 39.0]\n",
      " ['676452' 26.0 35.0 33.0]\n",
      " ['677323' 25.0 36.0 32.0]\n",
      " ['682577' 28.0 39.0 35.0]\n",
      " ['682698' 26.0 35.0 32.0]\n",
      " ['682698' 28.0 38.0 34.0]\n",
      " ['685418' 28.0 38.0 35.0]\n",
      " ['687186' 27.0 38.0 32.0]\n",
      " ['688065' 31.0 40.0 38.0]\n",
      " ['688065' 36.0 42.0 44.0]\n",
      " ['688065' 31.0 37.0 36.0]\n",
      " ['691475' 24.0 35.0 30.0]]\n"
     ]
    }
   ],
   "source": [
    "print(X)"
   ]
  },
  {
   "cell_type": "code",
   "execution_count": 17,
   "metadata": {
    "_kg_hide-input": true,
    "execution": {
     "iopub.execute_input": "2021-02-23T17:49:17.433810Z",
     "iopub.status.busy": "2021-02-23T17:49:17.433092Z",
     "iopub.status.idle": "2021-02-23T17:49:17.436787Z",
     "shell.execute_reply": "2021-02-23T17:49:17.436212Z"
    },
    "papermill": {
     "duration": 0.043846,
     "end_time": "2021-02-23T17:49:17.436958",
     "exception": false,
     "start_time": "2021-02-23T17:49:17.393112",
     "status": "completed"
    },
    "tags": []
   },
   "outputs": [],
   "source": [
    "# Test options and evaluation metric\n",
    "scoring = 'accuracy'\n"
   ]
  },
  {
   "cell_type": "code",
   "execution_count": 18,
   "metadata": {
    "execution": {
     "iopub.execute_input": "2021-02-23T17:49:17.519279Z",
     "iopub.status.busy": "2021-02-23T17:49:17.518593Z",
     "iopub.status.idle": "2021-02-23T17:49:17.944302Z",
     "shell.execute_reply": "2021-02-23T17:49:17.943237Z"
    },
    "papermill": {
     "duration": 0.471622,
     "end_time": "2021-02-23T17:49:17.944471",
     "exception": false,
     "start_time": "2021-02-23T17:49:17.472849",
     "status": "completed"
    },
    "tags": []
   },
   "outputs": [
    {
     "name": "stderr",
     "output_type": "stream",
     "text": [
      "/opt/conda/lib/python3.7/site-packages/sklearn/model_selection/_split.py:297: FutureWarning: Setting a random_state has no effect since shuffle is False. This will raise an error in 0.24. You should leave random_state to its default (None), or set shuffle=True.\n",
      "  FutureWarning\n",
      "/opt/conda/lib/python3.7/site-packages/sklearn/model_selection/_split.py:297: FutureWarning: Setting a random_state has no effect since shuffle is False. This will raise an error in 0.24. You should leave random_state to its default (None), or set shuffle=True.\n",
      "  FutureWarning\n",
      "/opt/conda/lib/python3.7/site-packages/sklearn/model_selection/_split.py:297: FutureWarning: Setting a random_state has no effect since shuffle is False. This will raise an error in 0.24. You should leave random_state to its default (None), or set shuffle=True.\n",
      "  FutureWarning\n",
      "/opt/conda/lib/python3.7/site-packages/sklearn/model_selection/_split.py:297: FutureWarning: Setting a random_state has no effect since shuffle is False. This will raise an error in 0.24. You should leave random_state to its default (None), or set shuffle=True.\n",
      "  FutureWarning\n",
      "/opt/conda/lib/python3.7/site-packages/sklearn/model_selection/_split.py:297: FutureWarning: Setting a random_state has no effect since shuffle is False. This will raise an error in 0.24. You should leave random_state to its default (None), or set shuffle=True.\n",
      "  FutureWarning\n",
      "/opt/conda/lib/python3.7/site-packages/sklearn/model_selection/_split.py:297: FutureWarning: Setting a random_state has no effect since shuffle is False. This will raise an error in 0.24. You should leave random_state to its default (None), or set shuffle=True.\n",
      "  FutureWarning\n"
     ]
    },
    {
     "name": "stdout",
     "output_type": "stream",
     "text": [
      "LR: 0.335714 (0.090633)\n",
      "LDA: 0.578571 (0.121429)\n",
      "KNN: 0.185714 (0.072843)\n",
      "CART: 0.492857 (0.147945)\n",
      "NB: 0.542857 (0.111575)\n",
      "SVM: 0.335714 (0.090633)\n"
     ]
    },
    {
     "data": {
      "image/png": "[encoded data removed]",
      "text/plain": [
       "<Figure size 432x288 with 1 Axes>"
      ]
     },
     "metadata": {
      "needs_background": "light"
     },
     "output_type": "display_data"
    }
   ],
   "source": [
    "# Spot Check Algorithms\n",
    "names = ['item_id', 'waist', 'hips', 'bust', 'size']\n",
    "models = []\n",
    "models.append(('LR', LogisticRegression()))\n",
    "models.append(('LDA', LinearDiscriminantAnalysis()))\n",
    "models.append(('KNN', KNeighborsClassifier()))\n",
    "models.append(('CART', DecisionTreeClassifier()))\n",
    "models.append(('NB', GaussianNB()))\n",
    "models.append(('SVM', SVC()))\n",
    "# evaluate each model in turn\n",
    "results = []\n",
    "names = []\n",
    "for name, model in models:\n",
    "    kfold = model_selection.KFold(n_splits=10, random_state=seed)\n",
    "    cv_results = model_selection.cross_val_score(model, X_train, Y_train, cv=kfold, scoring=scoring)\n",
    "    results.append(cv_results)\n",
    "    names.append(name)\n",
    "    msg = \"%s: %f (%f)\" % (name, cv_results.mean(), cv_results.std())\n",
    "    print(msg)\n",
    "    \n",
    "# boxplot algorithm comparison\n",
    "fig = plt.figure()\n",
    "fig.suptitle('Algorithm Comparison')\n",
    "ax = fig.add_subplot(111)\n",
    "plt.boxplot(results)\n",
    "ax.set_xticklabels(names)\n",
    "plt.show()"
   ]
  },
  {
   "cell_type": "markdown",
   "metadata": {
    "papermill": {
     "duration": 0.039752,
     "end_time": "2021-02-23T17:49:18.023103",
     "exception": false,
     "start_time": "2021-02-23T17:49:17.983351",
     "status": "completed"
    },
    "tags": []
   },
   "source": [
    "The accuracy scores and standard deviation of each algorithm is shown, together with the box and whisker plot showing the spread of the accuracy scores across each cross-validation fold for each algorithm. \n",
    "\n",
    "\n",
    "LDA is the most accurate model with an accuracy score of 0.579, followed by NB and CART which have an accuracy score of 0.543 and 0.507 respectively. However, NB has the lowest standard deviation and smallest spread of accuracy scores among the 3 models. A smaller standard deviation is ideal as it means better consistency, predictability and quality."
   ]
  },
  {
   "cell_type": "code",
   "execution_count": 19,
   "metadata": {
    "execution": {
     "iopub.execute_input": "2021-02-23T17:49:18.107340Z",
     "iopub.status.busy": "2021-02-23T17:49:18.106226Z",
     "iopub.status.idle": "2021-02-23T17:49:18.133382Z",
     "shell.execute_reply": "2021-02-23T17:49:18.132422Z"
    },
    "papermill": {
     "duration": 0.073218,
     "end_time": "2021-02-23T17:49:18.133594",
     "exception": false,
     "start_time": "2021-02-23T17:49:18.060376",
     "status": "completed"
    },
    "tags": []
   },
   "outputs": [
    {
     "name": "stdout",
     "output_type": "stream",
     "text": [
      "Accuracy:\n",
      "0.37142857142857144\n",
      "\n",
      "Confusion matrix:\n",
      "[[ 0  0  0  0  0  0  1  0]\n",
      " [ 0  0  0  0  0  0  1  0]\n",
      " [ 0  0  0  0  0  0  9  0]\n",
      " [ 0  0  0  0  0  0  4  0]\n",
      " [ 0  0  0  0  0  0  3  0]\n",
      " [ 0  0  0  0  0  0  3  0]\n",
      " [ 0  0  0  0  0  0 13  0]\n",
      " [ 0  0  0  0  0  0  1  0]]\n",
      "\n",
      "Classification report:\n",
      "              precision    recall  f1-score   support\n",
      "\n",
      "           1       0.00      0.00      0.00         1\n",
      "          10       0.00      0.00      0.00         1\n",
      "          12       0.00      0.00      0.00         9\n",
      "          15       0.00      0.00      0.00         4\n",
      "          20       0.00      0.00      0.00         3\n",
      "           4       0.00      0.00      0.00         3\n",
      "           8       0.37      1.00      0.54        13\n",
      "           9       0.00      0.00      0.00         1\n",
      "\n",
      "    accuracy                           0.37        35\n",
      "   macro avg       0.05      0.12      0.07        35\n",
      "weighted avg       0.14      0.37      0.20        35\n",
      "\n"
     ]
    },
    {
     "name": "stderr",
     "output_type": "stream",
     "text": [
      "/opt/conda/lib/python3.7/site-packages/sklearn/metrics/_classification.py:1221: UndefinedMetricWarning: Precision and F-score are ill-defined and being set to 0.0 in labels with no predicted samples. Use `zero_division` parameter to control this behavior.\n",
      "  _warn_prf(average, modifier, msg_start, len(result))\n"
     ]
    }
   ],
   "source": [
    "# Make predictions on validation dataset\n",
    "LR = LogisticRegression()\n",
    "LR.fit(X_train, Y_train)\n",
    "predictions = LR.predict(X_validation)\n",
    "print(\"Accuracy:\")\n",
    "print(accuracy_score(Y_validation, predictions))\n",
    "print()\n",
    "print(\"Confusion matrix:\")\n",
    "print(confusion_matrix(Y_validation, predictions))\n",
    "print()\n",
    "print(\"Classification report:\")\n",
    "print(classification_report(Y_validation, predictions))\n"
   ]
  },
  {
   "cell_type": "code",
   "execution_count": 20,
   "metadata": {
    "execution": {
     "iopub.execute_input": "2021-02-23T17:49:18.219759Z",
     "iopub.status.busy": "2021-02-23T17:49:18.219079Z",
     "iopub.status.idle": "2021-02-23T17:49:18.240219Z",
     "shell.execute_reply": "2021-02-23T17:49:18.240841Z"
    },
    "papermill": {
     "duration": 0.067147,
     "end_time": "2021-02-23T17:49:18.241019",
     "exception": false,
     "start_time": "2021-02-23T17:49:18.173872",
     "status": "completed"
    },
    "tags": []
   },
   "outputs": [
    {
     "name": "stdout",
     "output_type": "stream",
     "text": [
      "Accuracy:\n",
      "0.5714285714285714\n",
      "\n",
      "Confusion matrix:\n",
      "[[ 0  0  0  0  0  1  0  0]\n",
      " [ 0  0  0  0  0  0  1  0]\n",
      " [ 0  0  5  0  0  0  4  0]\n",
      " [ 0  0  0  2  2  0  0  0]\n",
      " [ 0  0  0  2  1  0  0  0]\n",
      " [ 0  0  0  0  0  0  3  0]\n",
      " [ 0  0  0  0  0  1 12  0]\n",
      " [ 0  0  0  0  0  0  1  0]]\n",
      "\n",
      "Classification report:\n",
      "              precision    recall  f1-score   support\n",
      "\n",
      "           1       0.00      0.00      0.00         1\n",
      "          10       0.00      0.00      0.00         1\n",
      "          12       1.00      0.56      0.71         9\n",
      "          15       0.50      0.50      0.50         4\n",
      "          20       0.33      0.33      0.33         3\n",
      "           4       0.00      0.00      0.00         3\n",
      "           8       0.57      0.92      0.71        13\n",
      "           9       0.00      0.00      0.00         1\n",
      "\n",
      "    accuracy                           0.57        35\n",
      "   macro avg       0.30      0.29      0.28        35\n",
      "weighted avg       0.56      0.57      0.53        35\n",
      "\n"
     ]
    },
    {
     "name": "stderr",
     "output_type": "stream",
     "text": [
      "/opt/conda/lib/python3.7/site-packages/sklearn/metrics/_classification.py:1221: UndefinedMetricWarning: Precision and F-score are ill-defined and being set to 0.0 in labels with no predicted samples. Use `zero_division` parameter to control this behavior.\n",
      "  _warn_prf(average, modifier, msg_start, len(result))\n"
     ]
    }
   ],
   "source": [
    "# Make predictions on validation dataset\n",
    "LDA = LinearDiscriminantAnalysis()\n",
    "LDA.fit(X_train, Y_train)\n",
    "predictions = LDA.predict(X_validation)\n",
    "print(\"Accuracy:\")\n",
    "print(accuracy_score(Y_validation, predictions))\n",
    "print()\n",
    "print(\"Confusion matrix:\")\n",
    "print(confusion_matrix(Y_validation, predictions))\n",
    "print()\n",
    "print(\"Classification report:\")\n",
    "print(classification_report(Y_validation, predictions))"
   ]
  },
  {
   "cell_type": "code",
   "execution_count": 21,
   "metadata": {
    "execution": {
     "iopub.execute_input": "2021-02-23T17:49:18.327717Z",
     "iopub.status.busy": "2021-02-23T17:49:18.327022Z",
     "iopub.status.idle": "2021-02-23T17:49:18.344378Z",
     "shell.execute_reply": "2021-02-23T17:49:18.345064Z"
    },
    "papermill": {
     "duration": 0.064778,
     "end_time": "2021-02-23T17:49:18.345259",
     "exception": false,
     "start_time": "2021-02-23T17:49:18.280481",
     "status": "completed"
    },
    "tags": []
   },
   "outputs": [
    {
     "name": "stdout",
     "output_type": "stream",
     "text": [
      "Accuracy:\n",
      "0.17142857142857143\n",
      "\n",
      "Confusion matrix:\n",
      "[[0 0 0 0 0 0 1 0]\n",
      " [0 0 0 0 0 0 1 0]\n",
      " [0 0 2 2 2 1 2 0]\n",
      " [0 0 1 2 1 0 0 0]\n",
      " [0 0 1 1 0 0 1 0]\n",
      " [0 0 1 1 0 0 1 0]\n",
      " [1 0 4 2 3 1 2 0]\n",
      " [0 0 0 0 0 0 1 0]]\n",
      "\n",
      "Classification report:\n",
      "              precision    recall  f1-score   support\n",
      "\n",
      "           1       0.00      0.00      0.00         1\n",
      "          10       0.00      0.00      0.00         1\n",
      "          12       0.22      0.22      0.22         9\n",
      "          15       0.25      0.50      0.33         4\n",
      "          20       0.00      0.00      0.00         3\n",
      "           4       0.00      0.00      0.00         3\n",
      "           8       0.22      0.15      0.18        13\n",
      "           9       0.00      0.00      0.00         1\n",
      "\n",
      "    accuracy                           0.17        35\n",
      "   macro avg       0.09      0.11      0.09        35\n",
      "weighted avg       0.17      0.17      0.16        35\n",
      "\n"
     ]
    },
    {
     "name": "stderr",
     "output_type": "stream",
     "text": [
      "/opt/conda/lib/python3.7/site-packages/sklearn/metrics/_classification.py:1221: UndefinedMetricWarning: Precision and F-score are ill-defined and being set to 0.0 in labels with no predicted samples. Use `zero_division` parameter to control this behavior.\n",
      "  _warn_prf(average, modifier, msg_start, len(result))\n"
     ]
    }
   ],
   "source": [
    "# Make predictions on validation dataset\n",
    "KNN = KNeighborsClassifier()\n",
    "KNN.fit(X_train, Y_train)\n",
    "predictions = KNN.predict(X_validation)\n",
    "print(\"Accuracy:\")\n",
    "print(accuracy_score(Y_validation, predictions))\n",
    "print()\n",
    "print(\"Confusion matrix:\")\n",
    "print(confusion_matrix(Y_validation, predictions))\n",
    "print()\n",
    "print(\"Classification report:\")\n",
    "print(classification_report(Y_validation, predictions))"
   ]
  },
  {
   "cell_type": "code",
   "execution_count": 22,
   "metadata": {
    "execution": {
     "iopub.execute_input": "2021-02-23T17:49:18.433643Z",
     "iopub.status.busy": "2021-02-23T17:49:18.432532Z",
     "iopub.status.idle": "2021-02-23T17:49:18.448851Z",
     "shell.execute_reply": "2021-02-23T17:49:18.449959Z"
    },
    "papermill": {
     "duration": 0.06535,
     "end_time": "2021-02-23T17:49:18.450248",
     "exception": false,
     "start_time": "2021-02-23T17:49:18.384898",
     "status": "completed"
    },
    "tags": []
   },
   "outputs": [
    {
     "name": "stdout",
     "output_type": "stream",
     "text": [
      "Accuracy:\n",
      "0.5142857142857142\n",
      "\n",
      "Confusion matrix:\n",
      "[[0 0 0 0 0 1 0 0]\n",
      " [0 0 1 0 0 0 0 0]\n",
      " [0 0 6 0 0 1 2 0]\n",
      " [0 0 1 1 2 0 0 0]\n",
      " [0 0 0 2 1 0 0 0]\n",
      " [0 0 0 0 0 2 1 0]\n",
      " [1 0 3 0 0 1 8 0]\n",
      " [0 0 0 0 0 0 1 0]]\n",
      "\n",
      "Classification report:\n",
      "              precision    recall  f1-score   support\n",
      "\n",
      "           1       0.00      0.00      0.00         1\n",
      "          10       0.00      0.00      0.00         1\n",
      "          12       0.55      0.67      0.60         9\n",
      "          15       0.33      0.25      0.29         4\n",
      "          20       0.33      0.33      0.33         3\n",
      "           4       0.40      0.67      0.50         3\n",
      "           8       0.67      0.62      0.64        13\n",
      "           9       0.00      0.00      0.00         1\n",
      "\n",
      "    accuracy                           0.51        35\n",
      "   macro avg       0.28      0.32      0.29        35\n",
      "weighted avg       0.49      0.51      0.50        35\n",
      "\n"
     ]
    },
    {
     "name": "stderr",
     "output_type": "stream",
     "text": [
      "/opt/conda/lib/python3.7/site-packages/sklearn/metrics/_classification.py:1221: UndefinedMetricWarning: Precision and F-score are ill-defined and being set to 0.0 in labels with no predicted samples. Use `zero_division` parameter to control this behavior.\n",
      "  _warn_prf(average, modifier, msg_start, len(result))\n"
     ]
    }
   ],
   "source": [
    "# Make predictions on validation dataset\n",
    "CART = DecisionTreeClassifier()\n",
    "CART.fit(X_train, Y_train)\n",
    "predictions = CART.predict(X_validation)\n",
    "print(\"Accuracy:\")\n",
    "print(accuracy_score(Y_validation, predictions))\n",
    "print()\n",
    "print(\"Confusion matrix:\")\n",
    "print(confusion_matrix(Y_validation, predictions))\n",
    "print()\n",
    "print(\"Classification report:\")\n",
    "print(classification_report(Y_validation, predictions))"
   ]
  },
  {
   "cell_type": "code",
   "execution_count": 23,
   "metadata": {
    "execution": {
     "iopub.execute_input": "2021-02-23T17:49:18.547890Z",
     "iopub.status.busy": "2021-02-23T17:49:18.543509Z",
     "iopub.status.idle": "2021-02-23T17:49:18.558540Z",
     "shell.execute_reply": "2021-02-23T17:49:18.557993Z"
    },
    "papermill": {
     "duration": 0.066093,
     "end_time": "2021-02-23T17:49:18.558680",
     "exception": false,
     "start_time": "2021-02-23T17:49:18.492587",
     "status": "completed"
    },
    "tags": []
   },
   "outputs": [
    {
     "name": "stdout",
     "output_type": "stream",
     "text": [
      "Accuracy:\n",
      "0.5714285714285714\n",
      "\n",
      "Confusion matrix:\n",
      "[[ 0  0  0  0  0  1  0  0]\n",
      " [ 0  0  0  0  0  0  1  0]\n",
      " [ 0  0  4  0  0  0  5  0]\n",
      " [ 0  0  0  3  1  0  0  0]\n",
      " [ 0  0  0  2  1  0  0  0]\n",
      " [ 0  0  0  0  0  0  3  0]\n",
      " [ 0  0  0  0  0  1 12  0]\n",
      " [ 0  0  0  0  0  0  1  0]]\n",
      "\n",
      "Classification report:\n",
      "              precision    recall  f1-score   support\n",
      "\n",
      "           1       0.00      0.00      0.00         1\n",
      "          10       0.00      0.00      0.00         1\n",
      "          12       1.00      0.44      0.62         9\n",
      "          15       0.60      0.75      0.67         4\n",
      "          20       0.50      0.33      0.40         3\n",
      "           4       0.00      0.00      0.00         3\n",
      "           8       0.55      0.92      0.69        13\n",
      "           9       0.00      0.00      0.00         1\n",
      "\n",
      "    accuracy                           0.57        35\n",
      "   macro avg       0.33      0.31      0.30        35\n",
      "weighted avg       0.57      0.57      0.52        35\n",
      "\n"
     ]
    },
    {
     "name": "stderr",
     "output_type": "stream",
     "text": [
      "/opt/conda/lib/python3.7/site-packages/sklearn/metrics/_classification.py:1221: UndefinedMetricWarning: Precision and F-score are ill-defined and being set to 0.0 in labels with no predicted samples. Use `zero_division` parameter to control this behavior.\n",
      "  _warn_prf(average, modifier, msg_start, len(result))\n"
     ]
    }
   ],
   "source": [
    "# Make predictions on validation dataset\n",
    "NB = GaussianNB()\n",
    "NB.fit(X_train, Y_train)\n",
    "predictions = NB.predict(X_validation)\n",
    "print(\"Accuracy:\")\n",
    "print(accuracy_score(Y_validation, predictions))\n",
    "print()\n",
    "print(\"Confusion matrix:\")\n",
    "print(confusion_matrix(Y_validation, predictions))\n",
    "print()\n",
    "print(\"Classification report:\")\n",
    "print(classification_report(Y_validation, predictions))"
   ]
  },
  {
   "cell_type": "code",
   "execution_count": 24,
   "metadata": {
    "execution": {
     "iopub.execute_input": "2021-02-23T17:49:18.649803Z",
     "iopub.status.busy": "2021-02-23T17:49:18.648819Z",
     "iopub.status.idle": "2021-02-23T17:49:18.665257Z",
     "shell.execute_reply": "2021-02-23T17:49:18.666080Z"
    },
    "papermill": {
     "duration": 0.066415,
     "end_time": "2021-02-23T17:49:18.666298",
     "exception": false,
     "start_time": "2021-02-23T17:49:18.599883",
     "status": "completed"
    },
    "tags": []
   },
   "outputs": [
    {
     "name": "stdout",
     "output_type": "stream",
     "text": [
      "Accuracy:\n",
      "0.37142857142857144\n",
      "\n",
      "Confusion matrix:\n",
      "[[ 0  0  0  0  0  0  1  0]\n",
      " [ 0  0  0  0  0  0  1  0]\n",
      " [ 0  0  0  0  0  0  9  0]\n",
      " [ 0  0  0  0  0  0  4  0]\n",
      " [ 0  0  0  0  0  0  3  0]\n",
      " [ 0  0  0  0  0  0  3  0]\n",
      " [ 0  0  0  0  0  0 13  0]\n",
      " [ 0  0  0  0  0  0  1  0]]\n",
      "\n",
      "Classification report:\n",
      "              precision    recall  f1-score   support\n",
      "\n",
      "           1       0.00      0.00      0.00         1\n",
      "          10       0.00      0.00      0.00         1\n",
      "          12       0.00      0.00      0.00         9\n",
      "          15       0.00      0.00      0.00         4\n",
      "          20       0.00      0.00      0.00         3\n",
      "           4       0.00      0.00      0.00         3\n",
      "           8       0.37      1.00      0.54        13\n",
      "           9       0.00      0.00      0.00         1\n",
      "\n",
      "    accuracy                           0.37        35\n",
      "   macro avg       0.05      0.12      0.07        35\n",
      "weighted avg       0.14      0.37      0.20        35\n",
      "\n"
     ]
    },
    {
     "name": "stderr",
     "output_type": "stream",
     "text": [
      "/opt/conda/lib/python3.7/site-packages/sklearn/metrics/_classification.py:1221: UndefinedMetricWarning: Precision and F-score are ill-defined and being set to 0.0 in labels with no predicted samples. Use `zero_division` parameter to control this behavior.\n",
      "  _warn_prf(average, modifier, msg_start, len(result))\n"
     ]
    }
   ],
   "source": [
    "# Make predictions on validation dataset\n",
    "svm = SVC()\n",
    "svm.fit(X_train, Y_train)\n",
    "predictions = svm.predict(X_validation)\n",
    "print(\"Accuracy:\")\n",
    "print(accuracy_score(Y_validation, predictions))\n",
    "print()\n",
    "print(\"Confusion matrix:\")\n",
    "print(confusion_matrix(Y_validation, predictions))\n",
    "print()\n",
    "print(\"Classification report:\")\n",
    "print(classification_report(Y_validation, predictions))"
   ]
  },
  {
   "cell_type": "markdown",
   "metadata": {
    "papermill": {
     "duration": 0.041613,
     "end_time": "2021-02-23T17:49:18.751556",
     "exception": false,
     "start_time": "2021-02-23T17:49:18.709943",
     "status": "completed"
    },
    "tags": []
   },
   "source": [
    "# Results"
   ]
  },
  {
   "cell_type": "markdown",
   "metadata": {
    "papermill": {
     "duration": 0.043245,
     "end_time": "2021-02-23T17:49:18.836688",
     "exception": false,
     "start_time": "2021-02-23T17:49:18.793443",
     "status": "completed"
    },
    "tags": []
   },
   "source": [
    "Predicting size for item 424111 GaussianNB based on:\n",
    "* 24in waist\n",
    "* 34in hips\n",
    "* 31in bust"
   ]
  },
  {
   "cell_type": "code",
   "execution_count": 25,
   "metadata": {
    "execution": {
     "iopub.execute_input": "2021-02-23T17:49:18.931804Z",
     "iopub.status.busy": "2021-02-23T17:49:18.930853Z",
     "iopub.status.idle": "2021-02-23T17:49:18.935321Z",
     "shell.execute_reply": "2021-02-23T17:49:18.934286Z"
    },
    "papermill": {
     "duration": 0.054595,
     "end_time": "2021-02-23T17:49:18.935532",
     "exception": false,
     "start_time": "2021-02-23T17:49:18.880937",
     "status": "completed"
    },
    "tags": []
   },
   "outputs": [
    {
     "name": "stdout",
     "output_type": "stream",
     "text": [
      "['4']\n"
     ]
    }
   ],
   "source": [
    "print(NB.predict([[424111,24,34,31]]))\n"
   ]
  },
  {
   "cell_type": "markdown",
   "metadata": {
    "papermill": {
     "duration": 0.044249,
     "end_time": "2021-02-23T17:49:19.024050",
     "exception": false,
     "start_time": "2021-02-23T17:49:18.979801",
     "status": "completed"
    },
    "tags": []
   },
   "source": [
    "Predicting size for item 424111 using GaussianNB model based on:\n",
    "\n",
    "* 35in waist\n",
    "* 35in hips\n",
    "* 42in bust"
   ]
  },
  {
   "cell_type": "code",
   "execution_count": 26,
   "metadata": {
    "execution": {
     "iopub.execute_input": "2021-02-23T17:49:19.117558Z",
     "iopub.status.busy": "2021-02-23T17:49:19.116832Z",
     "iopub.status.idle": "2021-02-23T17:49:19.121828Z",
     "shell.execute_reply": "2021-02-23T17:49:19.122457Z"
    },
    "papermill": {
     "duration": 0.056038,
     "end_time": "2021-02-23T17:49:19.122652",
     "exception": false,
     "start_time": "2021-02-23T17:49:19.066614",
     "status": "completed"
    },
    "tags": []
   },
   "outputs": [
    {
     "name": "stdout",
     "output_type": "stream",
     "text": [
      "['20']\n"
     ]
    }
   ],
   "source": [
    "print(NB.predict([[424111,35,45,42]]))\n"
   ]
  }
 ],
 "metadata": {
  "kernelspec": {
   "display_name": "Python 3",
   "language": "python",
   "name": "python3"
  },
  "language_info": {
   "codemirror_mode": {
    "name": "ipython",
    "version": 3
   },
   "file_extension": ".py",
   "mimetype": "text/x-python",
   "name": "python",
   "nbconvert_exporter": "python",
   "pygments_lexer": "ipython3",
   "version": "3.7.9"
  },
  "papermill": {
   "default_parameters": {},
   "duration": 15.788089,
   "end_time": "2021-02-23T17:49:19.878208",
   "environment_variables": {},
   "exception": null,
   "input_path": "__notebook__.ipynb",
   "output_path": "__notebook__.ipynb",
   "parameters": {},
   "start_time": "2021-02-23T17:49:04.090119",
   "version": "2.2.2"
  }
 },
 "nbformat": 4,
 "nbformat_minor": 4
}
